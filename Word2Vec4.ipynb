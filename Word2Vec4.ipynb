{
 "cells": [
  {
   "cell_type": "code",
   "execution_count": 21,
   "id": "b572ef63-9f84-4fb0-9b34-11c176ad879a",
   "metadata": {},
   "outputs": [],
   "source": [
    "import pandas as pd\n",
    "import gensim"
   ]
  },
  {
   "cell_type": "code",
   "execution_count": 22,
   "id": "e7a1d61e-7017-4f96-8637-a63c2743d9ae",
   "metadata": {},
   "outputs": [
    {
     "data": {
      "text/html": [
       "<div>\n",
       "<style scoped>\n",
       "    .dataframe tbody tr th:only-of-type {\n",
       "        vertical-align: middle;\n",
       "    }\n",
       "\n",
       "    .dataframe tbody tr th {\n",
       "        vertical-align: top;\n",
       "    }\n",
       "\n",
       "    .dataframe thead th {\n",
       "        text-align: right;\n",
       "    }\n",
       "</style>\n",
       "<table border=\"1\" class=\"dataframe\">\n",
       "  <thead>\n",
       "    <tr style=\"text-align: right;\">\n",
       "      <th></th>\n",
       "      <th>review_description</th>\n",
       "      <th>rating</th>\n",
       "      <th>review_date</th>\n",
       "    </tr>\n",
       "  </thead>\n",
       "  <tbody>\n",
       "    <tr>\n",
       "      <th>0</th>\n",
       "      <td>The app is good for connecting with friends, f...</td>\n",
       "      <td>3</td>\n",
       "      <td>2023-07-11 23:57:07</td>\n",
       "    </tr>\n",
       "    <tr>\n",
       "      <th>1</th>\n",
       "      <td>Used to be my favorite social media app, but \"...</td>\n",
       "      <td>2</td>\n",
       "      <td>2023-07-22 21:37:09</td>\n",
       "    </tr>\n",
       "    <tr>\n",
       "      <th>2</th>\n",
       "      <td>Instagram is the best of all the social media....</td>\n",
       "      <td>5</td>\n",
       "      <td>2023-07-25 03:24:58</td>\n",
       "    </tr>\n",
       "    <tr>\n",
       "      <th>3</th>\n",
       "      <td>I love this app.. but as of late, I have been ...</td>\n",
       "      <td>2</td>\n",
       "      <td>2023-07-09 04:49:57</td>\n",
       "    </tr>\n",
       "    <tr>\n",
       "      <th>4</th>\n",
       "      <td>Used to be a great app but there are so many m...</td>\n",
       "      <td>3</td>\n",
       "      <td>2023-07-17 16:47:04</td>\n",
       "    </tr>\n",
       "  </tbody>\n",
       "</table>\n",
       "</div>"
      ],
      "text/plain": [
       "                                  review_description  rating  \\\n",
       "0  The app is good for connecting with friends, f...       3   \n",
       "1  Used to be my favorite social media app, but \"...       2   \n",
       "2  Instagram is the best of all the social media....       5   \n",
       "3  I love this app.. but as of late, I have been ...       2   \n",
       "4  Used to be a great app but there are so many m...       3   \n",
       "\n",
       "           review_date  \n",
       "0  2023-07-11 23:57:07  \n",
       "1  2023-07-22 21:37:09  \n",
       "2  2023-07-25 03:24:58  \n",
       "3  2023-07-09 04:49:57  \n",
       "4  2023-07-17 16:47:04  "
      ]
     },
     "execution_count": 22,
     "metadata": {},
     "output_type": "execute_result"
    }
   ],
   "source": [
    "df=pd.read_csv('instagram.csv')\n",
    "df.head()"
   ]
  },
  {
   "cell_type": "code",
   "execution_count": 23,
   "id": "5d5470c7-b7a2-450f-b690-8a161bfea259",
   "metadata": {},
   "outputs": [
    {
     "data": {
      "text/plain": [
       "(210542, 3)"
      ]
     },
     "execution_count": 23,
     "metadata": {},
     "output_type": "execute_result"
    }
   ],
   "source": [
    "df.shape"
   ]
  },
  {
   "cell_type": "code",
   "execution_count": 24,
   "id": "38e1b568-af72-4e9a-bfcc-bbe949533743",
   "metadata": {},
   "outputs": [
    {
     "data": {
      "text/plain": [
       "0         The app is good for connecting with friends, f...\n",
       "1         Used to be my favorite social media app, but \"...\n",
       "2         Instagram is the best of all the social media....\n",
       "3         I love this app.. but as of late, I have been ...\n",
       "4         Used to be a great app but there are so many m...\n",
       "                                ...                        \n",
       "210537    I love the app but lately my dms have been mes...\n",
       "210538    Fun and addictive. Let's me see new ideas for ...\n",
       "210539    User friendly and all things are available for...\n",
       "210540    There are issues when you upload a story from ...\n",
       "210541    This app keeps blocking me from making my acco...\n",
       "Name: review_description, Length: 210542, dtype: object"
      ]
     },
     "execution_count": 24,
     "metadata": {},
     "output_type": "execute_result"
    }
   ],
   "source": [
    "df['review_description']"
   ]
  },
  {
   "cell_type": "code",
   "execution_count": 25,
   "id": "6945319d-bfbb-40b9-891e-9bd857ac8a0d",
   "metadata": {},
   "outputs": [
    {
     "data": {
      "text/plain": [
       "\"The app is good for connecting with friends, family and even potential business partners. However as of recently I've experienced some problems with the messages portion of the app (ex: themes aren't showing up on my end but are present on other person's end). Idk if it has to do with a bug but it happened all of sudden out of nowhere on both of my pages (one private the other public). But besides the occasional bugs and sometimes the app/website being down randomly, I say it's a decent app.\""
      ]
     },
     "execution_count": 25,
     "metadata": {},
     "output_type": "execute_result"
    }
   ],
   "source": [
    "df['review_description'][0]"
   ]
  },
  {
   "cell_type": "code",
   "execution_count": 26,
   "id": "91fa17e0-cf01-4d05-9310-3306bacd2f34",
   "metadata": {},
   "outputs": [
    {
     "data": {
      "text/plain": [
       "0         [the, app, is, good, for, connecting, with, fr...\n",
       "1         [used, to, be, my, favorite, social, media, ap...\n",
       "2         [instagram, is, the, best, of, all, the, socia...\n",
       "3         [love, this, app, but, as, of, late, have, bee...\n",
       "4         [used, to, be, great, app, but, there, are, so...\n",
       "                                ...                        \n",
       "210537    [love, the, app, but, lately, my, dms, have, b...\n",
       "210538    [fun, and, addictive, let, me, see, new, ideas...\n",
       "210539    [user, friendly, and, all, things, are, availa...\n",
       "210540    [there, are, issues, when, you, upload, story,...\n",
       "210541    [this, app, keeps, blocking, me, from, making,...\n",
       "Name: review_description, Length: 210542, dtype: object"
      ]
     },
     "execution_count": 26,
     "metadata": {},
     "output_type": "execute_result"
    }
   ],
   "source": [
    "reviews=df['review_description'].apply(gensim.utils.simple_preprocess)\n",
    "reviews"
   ]
  },
  {
   "cell_type": "code",
   "execution_count": 27,
   "id": "bced0753-e41a-4935-811f-0075e835609e",
   "metadata": {},
   "outputs": [
    {
     "data": {
      "text/plain": [
       "['the',\n",
       " 'app',\n",
       " 'is',\n",
       " 'good',\n",
       " 'for',\n",
       " 'connecting',\n",
       " 'with',\n",
       " 'friends',\n",
       " 'family',\n",
       " 'and',\n",
       " 'even',\n",
       " 'potential',\n",
       " 'business',\n",
       " 'partners',\n",
       " 'however',\n",
       " 'as',\n",
       " 'of',\n",
       " 'recently',\n",
       " 've',\n",
       " 'experienced',\n",
       " 'some',\n",
       " 'problems',\n",
       " 'with',\n",
       " 'the',\n",
       " 'messages',\n",
       " 'portion',\n",
       " 'of',\n",
       " 'the',\n",
       " 'app',\n",
       " 'ex',\n",
       " 'themes',\n",
       " 'aren',\n",
       " 'showing',\n",
       " 'up',\n",
       " 'on',\n",
       " 'my',\n",
       " 'end',\n",
       " 'but',\n",
       " 'are',\n",
       " 'present',\n",
       " 'on',\n",
       " 'other',\n",
       " 'person',\n",
       " 'end',\n",
       " 'idk',\n",
       " 'if',\n",
       " 'it',\n",
       " 'has',\n",
       " 'to',\n",
       " 'do',\n",
       " 'with',\n",
       " 'bug',\n",
       " 'but',\n",
       " 'it',\n",
       " 'happened',\n",
       " 'all',\n",
       " 'of',\n",
       " 'sudden',\n",
       " 'out',\n",
       " 'of',\n",
       " 'nowhere',\n",
       " 'on',\n",
       " 'both',\n",
       " 'of',\n",
       " 'my',\n",
       " 'pages',\n",
       " 'one',\n",
       " 'private',\n",
       " 'the',\n",
       " 'other',\n",
       " 'public',\n",
       " 'but',\n",
       " 'besides',\n",
       " 'the',\n",
       " 'occasional',\n",
       " 'bugs',\n",
       " 'and',\n",
       " 'sometimes',\n",
       " 'the',\n",
       " 'app',\n",
       " 'website',\n",
       " 'being',\n",
       " 'down',\n",
       " 'randomly',\n",
       " 'say',\n",
       " 'it',\n",
       " 'decent',\n",
       " 'app']"
      ]
     },
     "execution_count": 27,
     "metadata": {},
     "output_type": "execute_result"
    }
   ],
   "source": [
    "reviews[0]"
   ]
  },
  {
   "cell_type": "code",
   "execution_count": 28,
   "id": "dd34d197-16c9-4602-8c7b-2d99a15f9228",
   "metadata": {},
   "outputs": [],
   "source": [
    "model=gensim.models.Word2Vec(\n",
    "    window=8,\n",
    "    min_count=2,\n",
    "    workers=5\n",
    ")"
   ]
  },
  {
   "cell_type": "code",
   "execution_count": 29,
   "id": "0ed20b6b-cf3c-41eb-a81e-923170e70a6b",
   "metadata": {},
   "outputs": [],
   "source": [
    "model.build_vocab(reviews,progress_per=900)"
   ]
  },
  {
   "cell_type": "code",
   "execution_count": 30,
   "id": "e4fe952d-9260-4d01-85a6-581aca2781a6",
   "metadata": {},
   "outputs": [
    {
     "data": {
      "text/plain": [
       "(108491121, 147202320)"
      ]
     },
     "execution_count": 30,
     "metadata": {},
     "output_type": "execute_result"
    }
   ],
   "source": [
    "model.train(reviews,total_examples=210542,epochs=20)"
   ]
  },
  {
   "cell_type": "code",
   "execution_count": 31,
   "id": "8e3de6cc-028f-4767-920f-fae7893a8f51",
   "metadata": {},
   "outputs": [],
   "source": [
    "model.save('./word2vec-instagram-playstore-reviews.model')"
   ]
  },
  {
   "cell_type": "code",
   "execution_count": 32,
   "id": "c72ca063-2f76-4ffa-9773-12cd76d0c62f",
   "metadata": {},
   "outputs": [
    {
     "data": {
      "text/plain": [
       "[('teenager', 0.591189444065094),\n",
       " ('intrigued', 0.5827922224998474),\n",
       " ('teaching', 0.5820876955986023),\n",
       " ('students', 0.5752451419830322),\n",
       " ('studying', 0.5707129836082458),\n",
       " ('lover', 0.5701059699058533),\n",
       " ('generation', 0.5554825663566589),\n",
       " ('smiling', 0.5525611639022827),\n",
       " ('addict', 0.55201655626297),\n",
       " ('prescription', 0.5458719730377197)]"
      ]
     },
     "execution_count": 32,
     "metadata": {},
     "output_type": "execute_result"
    }
   ],
   "source": [
    "model.wv.most_similar('student')"
   ]
  },
  {
   "cell_type": "code",
   "execution_count": 33,
   "id": "cc46b562-8a4d-476d-9b80-9fe19300dc56",
   "metadata": {},
   "outputs": [
    {
     "data": {
      "text/plain": [
       "[('styles', 0.6449459791183472),\n",
       " ('designs', 0.6175112724304199),\n",
       " ('beauty', 0.5862260460853577),\n",
       " ('design', 0.5554966330528259),\n",
       " ('neon', 0.5526071190834045),\n",
       " ('haircut', 0.5426672697067261),\n",
       " ('architecture', 0.5406670570373535),\n",
       " ('aesthetic', 0.5398157238960266),\n",
       " ('colorful', 0.5334067940711975),\n",
       " ('fashion', 0.5206997394561768)]"
      ]
     },
     "execution_count": 33,
     "metadata": {},
     "output_type": "execute_result"
    }
   ],
   "source": [
    "model.wv.most_similar('style')"
   ]
  },
  {
   "cell_type": "code",
   "execution_count": 34,
   "id": "e834b76b-283e-4040-860c-e9e8d6c967f8",
   "metadata": {},
   "outputs": [
    {
     "data": {
      "text/plain": [
       "[('shop', 0.9300091862678528),\n",
       " ('marketplace', 0.7812000513076782),\n",
       " ('dedicated', 0.6542816162109375),\n",
       " ('shops', 0.6244796514511108),\n",
       " ('replacing', 0.5897343754768372),\n",
       " ('etsy', 0.5804940462112427),\n",
       " ('cart', 0.5802603363990784),\n",
       " ('replace', 0.5713111162185669),\n",
       " ('explore', 0.5594781041145325),\n",
       " ('replaced', 0.556649386882782)]"
      ]
     },
     "execution_count": 34,
     "metadata": {},
     "output_type": "execute_result"
    }
   ],
   "source": [
    "model.wv.most_similar('shopping')"
   ]
  },
  {
   "cell_type": "code",
   "execution_count": 35,
   "id": "3bfa4951-778f-4731-8527-f7d19f638e67",
   "metadata": {},
   "outputs": [
    {
     "data": {
      "text/plain": [
       "0.4499728"
      ]
     },
     "execution_count": 35,
     "metadata": {},
     "output_type": "execute_result"
    }
   ],
   "source": [
    "model.wv.similarity(w1='sport',w2='gym')"
   ]
  },
  {
   "cell_type": "code",
   "execution_count": 36,
   "id": "d82e352b-a846-4f38-b3f6-c198bd529e4f",
   "metadata": {},
   "outputs": [
    {
     "data": {
      "text/plain": [
       "-0.017898532"
      ]
     },
     "execution_count": 36,
     "metadata": {},
     "output_type": "execute_result"
    }
   ],
   "source": [
    "model.wv.similarity(w1='movie',w2='home')"
   ]
  },
  {
   "cell_type": "code",
   "execution_count": 37,
   "id": "805497e2-22d4-47e8-bd98-d38a9ecac30a",
   "metadata": {},
   "outputs": [
    {
     "data": {
      "text/plain": [
       "0.43614113"
      ]
     },
     "execution_count": 37,
     "metadata": {},
     "output_type": "execute_result"
    }
   ],
   "source": [
    "model.wv.similarity(w1='instagram',w2='app')"
   ]
  }
 ],
 "metadata": {
  "kernelspec": {
   "display_name": "Python 3 (ipykernel)",
   "language": "python",
   "name": "python3"
  },
  "language_info": {
   "codemirror_mode": {
    "name": "ipython",
    "version": 3
   },
   "file_extension": ".py",
   "mimetype": "text/x-python",
   "name": "python",
   "nbconvert_exporter": "python",
   "pygments_lexer": "ipython3",
   "version": "3.10.5"
  }
 },
 "nbformat": 4,
 "nbformat_minor": 5
}
